{
 "cells": [
  {
   "cell_type": "code",
   "execution_count": null,
   "metadata": {},
   "outputs": [],
   "source": [
    "%%html  \n",
    "<style>.cm-s-ipython .CodeMirror-matchingbracket { color: black !important;}</style><!-- Bob J: no green highlights -->\n",
    "<style>table.dataframe th { vertical-align: top; }</style><!-- Move MultiIndex headers to top of block -->\n",
    "<style>table.dataframe td, table.dataframe th { border-style: solid; border-width: thin; }</style><!-- thin border around tables -->"
   ]
  },
  {
   "cell_type": "code",
   "execution_count": null,
   "metadata": {},
   "outputs": [],
   "source": [
    "%%javascript  # Prefer to display output instead of scrolling, so it can print\n",
    "IPython.OutputArea.prototype._should_scroll = function(lines) {\n",
    "    return false;\n",
    "}"
   ]
  },
  {
   "cell_type": "code",
   "execution_count": null,
   "metadata": {},
   "outputs": [],
   "source": [
    "# Standard definitions and options\n",
    "import pandas as pd\n",
    "from pandas import DataFrame\n",
    "import os\n",
    "import numpy as np\n",
    "from datetime import datetime\n",
    "%matplotlib inline\n",
    "import matplotlib.pyplot as plt\n",
    "plt.rcParams['figure.figsize'] = (15.0, 10.0)\n",
    "# widen the page to match the window\n",
    "from IPython.display import display, HTML\n",
    "display(HTML(\"<style>.container { width:100% !important; }</style>\"))\n",
    "# full width display of tables\n",
    "pd.options.display.max_columns = 50\n",
    "# want to display all rows\n",
    "pd.options.display.max_rows = None\n",
    "\n",
    "import warnings\n",
    "warnings.simplefilter(action='ignore', category=FutureWarning)\n"
   ]
  },
  {
   "cell_type": "code",
   "execution_count": null,
   "metadata": {},
   "outputs": [],
   "source": [
    "import json\n",
    "# read log in JSON form, as processed by i.e. transfer.php\n",
    "with open('log.json', 'r') as f:\n",
    "    samples_dict = json.load(f)"
   ]
  },
  {
   "cell_type": "code",
   "execution_count": null,
   "metadata": {},
   "outputs": [],
   "source": [
    "# samples_dict"
   ]
  },
  {
   "cell_type": "code",
   "execution_count": null,
   "metadata": {},
   "outputs": [],
   "source": [
    "exerciseName = {\n",
    "    \"TestIntroJava\":       \" 1 Testing 1 Intro Java\",\n",
    "    \"TestIntroCpp\":        \" 3 Testing 3 Intro C++\",\n",
    "    \"TestIntroPy\":         \" 2 Testing 2 Intro Python\",\n",
    "    \"TestSumPrimesJava\":   \" 4 Testing 4 TestSumPrimes Java\",\n",
    "    \"TestSumPrimesPy\":     \" 5 Testing 5 TestSumPrimes Python\",\n",
    "    \"TestSumPrimesCpp\":    \" 6 Testing 6 TestSumPrimes C++\",\n",
    "    \"ProfileStatsJava\":    \" 7 Performance 1 Java\",\n",
    "    \"ProfileStatsCpp\":     \" 8 Performance 2 C++\",\n",
    "    \"MemIntroCpp\":         \" 9 Memory 1 C++ Memory Checks\",\n",
    "    \"GitBasics1\":          \"10 Git 1 GitBasics1\",\n",
    "    \"GitBasics2\":          \"11 Git 2 GitBasics2\",\n",
    "    \"GitBisect\":           \"12 Git 3 GitBisect\",\n",
    "    \"GitHeadBanging\":      \"13 Git 4 GitHeadBanging\"\n",
    "}\n"
   ]
  },
  {
   "cell_type": "code",
   "execution_count": null,
   "metadata": {},
   "outputs": [],
   "source": [
    "df = DataFrame()\n",
    "for sample in samples_dict : \n",
    "    df = df.append(sample, ignore_index=True)\n",
    "df = df.replace(np.nan, '', regex=True)\n",
    "\n",
    "# Add column\n",
    "def lookUpCanFail(array, item, failValue) :\n",
    "    try :\n",
    "        return array[item]\n",
    "    except:\n",
    "        return failValue\n",
    "\n",
    "df['Exercise'] = df.apply(lambda row: \\\n",
    "                    lookUpCanFail(exerciseName, row.item1, \"\"), axis = 1)\n",
    "\n",
    "# drop items before exercise starts\n",
    "# df = df[df.DATE > \"2022-09-02 15:30:00\"]\n",
    "\n",
    "#df.head(4)"
   ]
  },
  {
   "cell_type": "code",
   "execution_count": null,
   "metadata": {},
   "outputs": [],
   "source": [
    "# extract team names, then drop them\n",
    "display(df[df[\"item1\"]==\"team\"])\n",
    "df = df[df[\"item1\"]!=\"team\"]"
   ]
  },
  {
   "cell_type": "code",
   "execution_count": null,
   "metadata": {},
   "outputs": [],
   "source": [
    "# how many total times for each Exercise\n",
    "t1 = df[df.Exercise.notnull()]\n",
    "t1 = t1[t1.Exercise != \"\"]\n",
    "group = t1.groupby([\"Exercise\"]).count()\n",
    "count = group['user']\n",
    "display(count)\n",
    "fig, ax = plt.subplots(figsize =(16, 9))\n",
    "ax.barh(group.index, count)\n",
    "ax.invert_yaxis()\n",
    "ax.set_title('Number Attempting Each Exercise');"
   ]
  },
  {
   "cell_type": "code",
   "execution_count": null,
   "metadata": {},
   "outputs": [],
   "source": [
    "# show counts of IP addresses\n",
    "display(df.groupby(\"host\").count()[\"REMOTE_HOST\"])"
   ]
  },
  {
   "cell_type": "code",
   "execution_count": null,
   "metadata": {},
   "outputs": [],
   "source": [
    "# display(df.groupby([\"user\", \"host\"]).count())"
   ]
  },
  {
   "cell_type": "code",
   "execution_count": null,
   "metadata": {},
   "outputs": [],
   "source": [
    "display(df.groupby(\"user\").count())"
   ]
  },
  {
   "cell_type": "code",
   "execution_count": null,
   "metadata": {},
   "outputs": [],
   "source": [
    "# look at one user\n",
    "display(df[df.user==\"jake\"])"
   ]
  },
  {
   "cell_type": "code",
   "execution_count": null,
   "metadata": {},
   "outputs": [],
   "source": [
    "# most recent 'setup' time - this is the start of working on the exercises\n",
    "t1 = df[df.item1 == 'setup']\n",
    "t1.drop_duplicates(['user'], keep='last')[[\"DATE\", \"IP\", \"host\", \"user\"]]"
   ]
  },
  {
   "cell_type": "code",
   "execution_count": null,
   "metadata": {},
   "outputs": [],
   "source": [
    "# plot the startup time (when the student got to 'source setup', i.e. after checkout)\n",
    "t1 = df[df.item1 == 'setup']\n",
    "\n",
    "# restrict to exercise period \n",
    "# t1 = t1[t1.DATE > \"2019-09-17 04:00:00\"]\n",
    "\n",
    "times = pd.to_datetime(t1[\"DATE\"])\n",
    "count = np.arange(0, len(times))\n",
    "plt.plot_date(times, count)\n",
    "plt.gcf().autofmt_xdate()\n",
    "plt.title(\"Setup Time\")\n",
    "plt.show()\n"
   ]
  },
  {
   "cell_type": "code",
   "execution_count": null,
   "metadata": {},
   "outputs": [],
   "source": [
    "# most recent 'Exercise' by user\n",
    "t1 = df[df.Exercise.notnull()]\n",
    "t2 = t1.drop_duplicates(['user'], keep='last').sort_values(['user'])\n",
    "t2[['DATE','user','Exercise']]"
   ]
  },
  {
   "cell_type": "code",
   "execution_count": null,
   "metadata": {},
   "outputs": [],
   "source": [
    "# activity near the end \n",
    "t2 = t1.drop_duplicates(['user'], keep='last').sort_values(['DATE'])\n",
    "t2[['DATE','user','Exercise']].tail(20)"
   ]
  },
  {
   "cell_type": "code",
   "execution_count": null,
   "metadata": {},
   "outputs": [],
   "source": [
    "# count the number of people with each exercise as most recent\n",
    "t1 = df[df.item1.notnull()]\n",
    "t1 = t1[t1.item1 != '']\n",
    "t2 = t1.drop_duplicates(['user'], keep='last')\n",
    "t2.sort_values(\"Exercise\")\n",
    "t2.groupby(\"Exercise\").count()['user']"
   ]
  },
  {
   "cell_type": "code",
   "execution_count": null,
   "metadata": {},
   "outputs": [],
   "source": [
    "t1.head(5)"
   ]
  },
  {
   "cell_type": "raw",
   "metadata": {},
   "source": []
  },
  {
   "cell_type": "code",
   "execution_count": null,
   "metadata": {},
   "outputs": [],
   "source": [
    "# plot time users started their last exercise\n",
    "t3 = df[df.item1.notnull()]\n",
    "t3 = t3[t3.item1 != '']\n",
    "t3 = t3.drop_duplicates(['user'], keep='last')\n",
    "t3.sort_values(\"DATE\")\n",
    "display(t3.head())\n",
    "\n",
    "#t3 = t3[t3.DATE < \"2019-09-18 17:30:00\"]\n",
    "#t3 = t3[t3.DATE > \"2019-09-18 15:30:00\"]\n",
    "\n",
    "times = pd.to_datetime(t3[\"DATE\"])\n",
    "count = np.arange(0, len(times))\n",
    "plt.plot_date(times, count)\n",
    "plt.gcf().autofmt_xdate()\n",
    "plt.title(\"Time Starting Most Recent Exercise\")\n",
    "plt.show()\n",
    "\n"
   ]
  },
  {
   "cell_type": "code",
   "execution_count": null,
   "metadata": {},
   "outputs": [],
   "source": []
  },
  {
   "cell_type": "code",
   "execution_count": null,
   "metadata": {},
   "outputs": [],
   "source": []
  }
 ],
 "metadata": {
  "kernelspec": {
   "display_name": "Python 3 (ipykernel)",
   "language": "python",
   "name": "python3"
  },
  "language_info": {
   "codemirror_mode": {
    "name": "ipython",
    "version": 3
   },
   "file_extension": ".py",
   "mimetype": "text/x-python",
   "name": "python",
   "nbconvert_exporter": "python",
   "pygments_lexer": "ipython3",
   "version": "3.9.12"
  }
 },
 "nbformat": 4,
 "nbformat_minor": 2
}
