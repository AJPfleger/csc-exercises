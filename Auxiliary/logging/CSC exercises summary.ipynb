{
 "cells": [
  {
   "cell_type": "code",
   "execution_count": null,
   "metadata": {},
   "outputs": [],
   "source": [
    "%%HTML\n",
    "<script>\n",
    "  function code_toggle() {\n",
    "    if (code_shown){\n",
    "      $('div.input').hide('200');\n",
    "      $('#toggleButton').val('Show Code')\n",
    "    } else {\n",
    "      $('div.input').show('200');\n",
    "      $('#toggleButton').val('Hide Code')\n",
    "    }\n",
    "    code_shown = !code_shown\n",
    "  }\n",
    "\n",
    "  $( document ).ready(function(){\n",
    "    code_shown=true;\n",
    "    code_toggle()\n",
    "  });\n",
    "</script>\n",
    "<form action=\"javascript:code_toggle()\"><input type=\"submit\" id=\"toggleButton\" value=\"Show Code\"></form>"
   ]
  },
  {
   "cell_type": "code",
   "execution_count": null,
   "metadata": {},
   "outputs": [],
   "source": [
    "%%html  \n",
    "<style>.cm-s-ipython .CodeMirror-matchingbracket { color: black !important;}</style><!-- Bob J: no green highlights -->\n",
    "<style>table.dataframe th { vertical-align: top; }</style><!-- Move MultiIndex headers to top of block -->\n",
    "<style>table.dataframe td, table.dataframe th { border-style: solid; border-width: thin; }</style><!-- thin border around tables -->"
   ]
  },
  {
   "cell_type": "markdown",
   "metadata": {},
   "source": [
    "# CSC Exercises Summary Data\n",
    "All times are UTC"
   ]
  },
  {
   "cell_type": "code",
   "execution_count": null,
   "metadata": {},
   "outputs": [],
   "source": [
    "%%javascript  # Prefer to display output instead of scrolling, so it can print\n",
    "IPython.OutputArea.prototype._should_scroll = function(lines) {\n",
    "    return false;\n",
    "}"
   ]
  },
  {
   "cell_type": "code",
   "execution_count": null,
   "metadata": {},
   "outputs": [],
   "source": [
    "# Standard definitions and options\n",
    "import pandas as pd\n",
    "from pandas import DataFrame\n",
    "import os\n",
    "import numpy as np\n",
    "from datetime import datetime\n",
    "%matplotlib inline\n",
    "import matplotlib.pyplot as plt\n",
    "plt.rcParams['figure.figsize'] = (15.0, 10.0)\n",
    "# widen the page to match the window\n",
    "from IPython.display import display, HTML\n",
    "display(HTML(\"<style>.container { width:100% !important; }</style>\"))\n",
    "# full width display of tables\n",
    "pd.options.display.max_columns = 50\n",
    "# want to display all rows\n",
    "pd.options.display.max_rows = None\n",
    "\n",
    "import warnings\n",
    "warnings.simplefilter(action='ignore', category=FutureWarning)\n",
    "\n",
    "import json\n",
    "# read log in JSON form, as processed by i.e. transfer.php\n",
    "with open('log.json', 'r') as f:\n",
    "    samples_dict = json.load(f)\n",
    "# drop items before School starts? What if somebody went early?\n",
    "# df = df[df.DATE > \"2022-09-02 15:30:00\"]\n",
    "# drop my entries?\n",
    "# df = df[df.user != 'jake']\n",
    "# df = df[df.user != 'bojacobs']\n",
    "# samples_dict"
   ]
  },
  {
   "cell_type": "code",
   "execution_count": null,
   "metadata": {},
   "outputs": [],
   "source": [
    "exerciseName = {\n",
    "    \"TestIntroJava\":       \" 1 Testing 1 Intro Java\",\n",
    "    \"TestIntroCpp\":        \" 3 Testing 3 Intro C++\",\n",
    "    \"TestIntroPy\":         \" 2 Testing 2 Intro Python\",\n",
    "    \"TestSumPrimesJava\":   \" 4 Testing 4 TestSumPrimes Java\",\n",
    "    \"TestSumPrimesPy\":     \" 5 Testing 5 TestSumPrimes Python\",\n",
    "    \"TestSumPrimesCpp\":    \" 6 Testing 6 TestSumPrimes C++\",\n",
    "    \"ProfileStatsJava\":    \" 7 Performance 1 Java\",\n",
    "    \"ProfileStatsCpp\":     \" 8 Performance 2 C++\",\n",
    "    \"MemIntroCpp\":         \" 9 Memory 1 C++ Memory Checks\",\n",
    "    \"GitBasics1\":          \"10 Git 1 GitBasics1\",\n",
    "    \"GitBasics2\":          \"11 Git 2 GitBasics2\",\n",
    "    \"GitBisect\":           \"12 Git 3 GitBisect\",\n",
    "    \"GitHeadBanging\":      \"13 Git 4 GitHeadBanging\"\n",
    "}\n"
   ]
  },
  {
   "cell_type": "code",
   "execution_count": null,
   "metadata": {},
   "outputs": [],
   "source": [
    "df = DataFrame()\n",
    "for sample in samples_dict : \n",
    "    df = df.append(sample, ignore_index=True)\n",
    "df = df.replace(np.nan, '', regex=True)\n",
    "\n",
    "# Add column\n",
    "def lookUpCanFail(array, item, failValue) :\n",
    "    try :\n",
    "        return array[item]\n",
    "    except:\n",
    "        return failValue\n",
    "\n",
    "df['Exercise'] = df.apply(lambda row: \\\n",
    "                    lookUpCanFail(exerciseName, row.item2, \"\"), axis = 1)\n",
    "\n",
    "#df.head(8)"
   ]
  },
  {
   "cell_type": "markdown",
   "metadata": {},
   "source": [
    "### Team Names"
   ]
  },
  {
   "cell_type": "code",
   "execution_count": null,
   "metadata": {},
   "outputs": [],
   "source": [
    "# extract team names, then drop them\n",
    "teams = (df[df[\"item1\"]==\"team\"])[['user', 'item1', 'item2', 'item3']]\n",
    "display(teams)\n",
    "df = df[df[\"item1\"]!=\"team\"]"
   ]
  },
  {
   "cell_type": "markdown",
   "metadata": {},
   "source": [
    "### How many times was each exercise started?"
   ]
  },
  {
   "cell_type": "code",
   "execution_count": null,
   "metadata": {},
   "outputs": [],
   "source": [
    "# how many total times for each Exercise\n",
    "temp = df[[\"Exercise\", \"user\"]].copy()\n",
    "t1 = temp[temp.Exercise.notnull()]\n",
    "t1 = t1[t1.Exercise != \"\"]\n",
    "group = t1.groupby([\"Exercise\"]).count()\n",
    "count = group['user']\n",
    "display(group)\n",
    "fig, ax = plt.subplots(figsize =(16, 9))\n",
    "ax.barh(group.index, count)\n",
    "ax.invert_yaxis()\n",
    "ax.set_title('Number Attempting Each Exercise');"
   ]
  },
  {
   "cell_type": "markdown",
   "metadata": {},
   "source": [
    "### Machine usage information"
   ]
  },
  {
   "cell_type": "code",
   "execution_count": null,
   "metadata": {},
   "outputs": [],
   "source": [
    "# show host names so you can e.g. see if somebody working locally\n",
    "temp = df[['host', 'user']].copy()\n",
    "#display(temp.groupby([\"host\", \"user\"]).count())\n",
    "temp = df[['host']].copy()\n",
    "display(temp.groupby([\"host\"]).count())"
   ]
  },
  {
   "cell_type": "code",
   "execution_count": null,
   "metadata": {},
   "outputs": [],
   "source": [
    "temp = df[['IP']].copy()\n",
    "#display(temp.groupby(\"IP\").count())"
   ]
  },
  {
   "cell_type": "code",
   "execution_count": null,
   "metadata": {},
   "outputs": [],
   "source": [
    "temp = df[['user', 'host']].sort_values('user').copy()\n",
    "temp.groupby([\"user\", \"host\"]).count()"
   ]
  },
  {
   "cell_type": "code",
   "execution_count": null,
   "metadata": {},
   "outputs": [],
   "source": [
    "# progress by each specific user\n",
    "temp = df[['user', 'Exercise']].sort_values('user').copy()\n",
    "#display(temp.groupby([\"user\", \"Exercise\"]).count())"
   ]
  },
  {
   "cell_type": "code",
   "execution_count": null,
   "metadata": {},
   "outputs": [],
   "source": [
    "# look at one user\n",
    "#display(df[df.user==\"jake\"])"
   ]
  },
  {
   "cell_type": "markdown",
   "metadata": {},
   "source": [
    "### Time users started exercises, after the time needed for checkout"
   ]
  },
  {
   "cell_type": "code",
   "execution_count": null,
   "metadata": {},
   "outputs": [],
   "source": [
    "# first 'setup' (startup) time - this is the start of working on the exercises\n",
    "t1 = df[df.item1 == 'setup']\n",
    "t1.drop_duplicates(['user'], keep='first')[[\"DATE\", \"IP\", \"host\", \"user\"]]"
   ]
  },
  {
   "cell_type": "code",
   "execution_count": null,
   "metadata": {},
   "outputs": [],
   "source": [
    "# plot the 'setup' (startup) time (when the student got to 'source setup', i.e. after checkout)\n",
    "t1 = df[df.item1 == 'setup']\n",
    "\n",
    "# restrict to exercise period \n",
    "# t1 = t1[t1.DATE > \"2019-09-17 04:00:00\"]\n",
    "\n",
    "# Not dropping duplicates by user, should it? Above keeps just first. Setup when opening another xterm?\n",
    "\n",
    "times = pd.to_datetime(t1[\"DATE\"]) # already in order by time as log is written\n",
    "count = np.arange(0, len(times))\n",
    "plt.plot_date(times, count)\n",
    "plt.gcf().autofmt_xdate()\n",
    "plt.title(\"Time Running Setup\")\n",
    "plt.show()\n"
   ]
  },
  {
   "cell_type": "markdown",
   "metadata": {},
   "source": [
    "### Most recent exercise by user"
   ]
  },
  {
   "cell_type": "code",
   "execution_count": null,
   "metadata": {},
   "outputs": [],
   "source": [
    "# most recent 'Exercise' by user\n",
    "t1 = df[df.Exercise.notnull()]\n",
    "t2 = t1.drop_duplicates(['user'], keep='last').sort_values(['user'])\n",
    "t2[['DATE','user','Exercise']]"
   ]
  },
  {
   "cell_type": "markdown",
   "metadata": {},
   "source": [
    "Last 20 activities"
   ]
  },
  {
   "cell_type": "code",
   "execution_count": null,
   "metadata": {},
   "outputs": [],
   "source": [
    "# activity near the end \n",
    "t2 = t1.drop_duplicates(['user'], keep='last').sort_values(['DATE'])\n",
    "t2[['DATE','user','Exercise']].tail(20)"
   ]
  },
  {
   "cell_type": "markdown",
   "metadata": {},
   "source": [
    "### How many times is each exercise the most recent (i.e. current) for people?"
   ]
  },
  {
   "cell_type": "code",
   "execution_count": null,
   "metadata": {},
   "outputs": [],
   "source": [
    "# count the number of people with each exercise as most recent\n",
    "temp = df[['user', 'Exercise']].sort_values('user').copy()\n",
    "t1 = temp[temp.Exercise.notnull()]\n",
    "t1 = t1[t1.Exercise != '']\n",
    "t2 = t1.drop_duplicates(['user'], keep='last')\n",
    "t2.sort_values(\"Exercise\")\n",
    "t2.groupby(\"Exercise\").count()"
   ]
  },
  {
   "cell_type": "code",
   "execution_count": null,
   "metadata": {},
   "outputs": [],
   "source": [
    "# t1.tail(5)  # t1 is exercise sequence"
   ]
  },
  {
   "cell_type": "markdown",
   "metadata": {},
   "source": [
    "### When did users start their most recent exercise?"
   ]
  },
  {
   "cell_type": "code",
   "execution_count": null,
   "metadata": {},
   "outputs": [],
   "source": [
    "# plot time users started their last exercise\n",
    "t3 = df[df.item1.notnull()]\n",
    "t3 = t3[t3.item1 != '']\n",
    "t3 = t3.drop_duplicates(['user'], keep='last')\n",
    "t3.sort_values(\"DATE\")\n",
    "display(t3.head())\n",
    "\n",
    "#t3 = t3[t3.DATE < \"2019-09-18 17:30:00\"]\n",
    "#t3 = t3[t3.DATE > \"2019-09-18 15:30:00\"]\n",
    "\n",
    "times = pd.to_datetime(t3[\"DATE\"])\n",
    "count = np.arange(0, len(times))\n",
    "plt.plot_date(times, count)\n",
    "plt.gcf().autofmt_xdate()\n",
    "plt.title(\"Time Starting Most Recent Exercise\")\n",
    "plt.show()\n",
    "\n"
   ]
  },
  {
   "cell_type": "code",
   "execution_count": null,
   "metadata": {},
   "outputs": [],
   "source": []
  },
  {
   "cell_type": "code",
   "execution_count": null,
   "metadata": {},
   "outputs": [],
   "source": []
  }
 ],
 "metadata": {
  "kernelspec": {
   "display_name": "Python 3 (ipykernel)",
   "language": "python",
   "name": "python3"
  },
  "language_info": {
   "codemirror_mode": {
    "name": "ipython",
    "version": 3
   },
   "file_extension": ".py",
   "mimetype": "text/x-python",
   "name": "python",
   "nbconvert_exporter": "python",
   "pygments_lexer": "ipython3",
   "version": "3.9.12"
  }
 },
 "nbformat": 4,
 "nbformat_minor": 2
}
