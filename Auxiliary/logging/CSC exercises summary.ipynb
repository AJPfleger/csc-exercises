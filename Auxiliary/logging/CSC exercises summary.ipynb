{
 "cells": [
  {
   "cell_type": "code",
   "execution_count": null,
   "metadata": {},
   "outputs": [],
   "source": [
    "%%html  \n",
    "<style>.cm-s-ipython .CodeMirror-matchingbracket { color: black !important;}</style><!-- Bob J: no green highlights -->\n",
    "<style>table.dataframe th { vertical-align: top; }</style><!-- Move MultiIndex headers to top of block -->\n",
    "<style>table.dataframe td, table.dataframe th { border-style: solid; border-width: thin; }</style><!-- thin border around tables -->"
   ]
  },
  {
   "cell_type": "code",
   "execution_count": null,
   "metadata": {},
   "outputs": [],
   "source": [
    "%%javascript  # Prefer to display output instead of scrolling, so it can print\n",
    "IPython.OutputArea.prototype._should_scroll = function(lines) {\n",
    "    return false;\n",
    "}"
   ]
  },
  {
   "cell_type": "code",
   "execution_count": null,
   "metadata": {},
   "outputs": [],
   "source": [
    "# Standard definitions and options\n",
    "import pandas as pd\n",
    "from pandas import DataFrame\n",
    "import os\n",
    "import numpy as np\n",
    "from datetime import datetime\n",
    "%matplotlib inline\n",
    "import matplotlib.pyplot as plt\n",
    "plt.rcParams['figure.figsize'] = (15.0, 10.0)\n",
    "# widen the page to match the window\n",
    "from IPython.display import display, HTML\n",
    "display(HTML(\"<style>.container { width:100% !important; }</style>\"))\n",
    "# full width display of tables\n",
    "pd.options.display.max_columns = 50\n",
    "# want to display all rows\n",
    "pd.options.display.max_rows = None\n",
    "\n",
    "import warnings\n",
    "warnings.simplefilter(action='ignore', category=FutureWarning)\n"
   ]
  },
  {
   "cell_type": "code",
   "execution_count": null,
   "metadata": {},
   "outputs": [],
   "source": [
    "import json\n",
    "# read log in JSON form, as processed by i.e. transfer.php\n",
    "with open('log.json', 'r') as f:\n",
    "    samples_dict = json.load(f)"
   ]
  },
  {
   "cell_type": "code",
   "execution_count": null,
   "metadata": {},
   "outputs": [],
   "source": [
    "# samples_dict"
   ]
  },
  {
   "cell_type": "code",
   "execution_count": null,
   "metadata": {},
   "outputs": [],
   "source": [
    "exerciseName = {\n",
    "    \"exercise1.tar\":       \" 1 Testing 1\",\n",
    "    \"exercise2.tar\":       \" 2 Testing 2 JUnit\",\n",
    "    \"exerciseD.tar\":       \" 3 Testing 3 CppUnit\",\n",
    "    \"exerciseP.tar\":       \" 4 Testing 3 PyUnit\",\n",
    "    \"exercise3.tar\":       \" 5 Profiling 1\",\n",
    "    \"exercise4.tar\":       \" 6 Profiling 2\",\n",
    "    \"exercise5.tar\":       \" 7 Memory\",\n",
    "    \"exerciseC.tar\":       \" 8 SVN\",\n",
    "    \"exG2script.sh\":       \" 9 Git 2\",\n",
    "    \"exG3script.sh\":       \"10 Git 3\",\n",
    "    \"exG3MasterRepo.tar\":  \"10 Git 3\",\n",
    "    \"exerciseM1.tar\":      \"11 CMake 1\",\n",
    "    \"exerciseM1A.tar\":     \"11 CMake 1\",\n",
    "    \"exerciseM2.tar\":      \"12 CMake 2\",\n",
    "    \"exerciseM2A.tar\":     \"12 CMake 2\",\n",
    "    \"exerciseM2B.tar\":     \"12 CMake 2\",\n",
    "    \"exercise7.tar\":       \"13 CMT 1\",\n",
    "    \"exercise7extras.tar\": \"13 CMT 1\",\n",
    "    \"exercise8.tar\":       \"14 CMT 2\",\n",
    "    \"exercise9.tar\":       \"15 CMT 3\",\n",
    "    \"exerciseF.tar\":       \"16 Dist Git\",\n",
    "    \"cmt-dev-all.tgz\":     \"17 CMT Build\"\n",
    "}\n"
   ]
  },
  {
   "cell_type": "code",
   "execution_count": null,
   "metadata": {},
   "outputs": [],
   "source": [
    "df = DataFrame()\n",
    "for sample in samples_dict : \n",
    "    df = df.append(sample, ignore_index=True)\n",
    "df = df.replace(np.nan, '', regex=True)\n",
    "\n",
    "# Add column\n",
    "def lookUpCanFail(array, item, failValue) :\n",
    "    try :\n",
    "        return array[item]\n",
    "    except:\n",
    "        return failValue\n",
    "\n",
    "df['Exercise'] = df.apply(lambda row: \\\n",
    "                    lookUpCanFail(exerciseName, row.file, \"\"), axis = 1)"
   ]
  },
  {
   "cell_type": "code",
   "execution_count": null,
   "metadata": {},
   "outputs": [],
   "source": [
    "display(df[df.user==\"csc_armenuhi\"])"
   ]
  },
  {
   "cell_type": "code",
   "execution_count": null,
   "metadata": {},
   "outputs": [],
   "source": [
    "# show counts of IP addresses\n",
    "display(df.groupby(\"IP\").count()[\"REMOTE_HOST\"])"
   ]
  },
  {
   "cell_type": "code",
   "execution_count": null,
   "metadata": {},
   "outputs": [],
   "source": [
    "# self-reported host names\n",
    "display(df.host.unique())"
   ]
  },
  {
   "cell_type": "code",
   "execution_count": null,
   "metadata": {},
   "outputs": [],
   "source": [
    "display(df.user.unique())"
   ]
  },
  {
   "cell_type": "code",
   "execution_count": null,
   "metadata": {},
   "outputs": [],
   "source": [
    "# most recent 'setup' time\n",
    "t1 = df[df.item1 == 'setup']\n",
    "# display(t1.user.unique())\n",
    "t1.drop_duplicates(['user'], keep='last')[[\"DATE\", \"IP\", \"host\", \"user\"]]"
   ]
  },
  {
   "cell_type": "code",
   "execution_count": null,
   "metadata": {},
   "outputs": [],
   "source": [
    "# plot that start up time\n",
    "t1 = df[df.item1 == 'setup']\n",
    "\n",
    "# restrict to exercise period \n",
    "t1 = t1[t1.DATE > \"2019-09-17 04:00:00\"]\n",
    "\n",
    "times = pd.to_datetime(t1[\"DATE\"])\n",
    "count = np.arange(0, len(times))\n",
    "plt.plot_date(times, count)\n",
    "plt.gcf().autofmt_xdate()\n",
    "plt.show()\n",
    "\n",
    "# and focus on first exercise period to see startup\n",
    "t1 = t1[t1.DATE < \"2019-09-17 07:30:00\"]\n",
    "\n",
    "times = pd.to_datetime(t1[\"DATE\"])\n",
    "count = np.arange(0, len(times))\n",
    "plt.plot_date(times, count)\n",
    "plt.gcf().autofmt_xdate()\n",
    "plt.show()\n",
    "\n"
   ]
  },
  {
   "cell_type": "code",
   "execution_count": null,
   "metadata": {},
   "outputs": [],
   "source": [
    "# most recent 'Exercise' by user\n",
    "t1 = df[df.Exercise.notnull()]\n",
    "t2 = t1.drop_duplicates(['user'], keep='last').sort_values(['user'])\n",
    "t2[['DATE','user','Exercise']]"
   ]
  },
  {
   "cell_type": "code",
   "execution_count": null,
   "metadata": {},
   "outputs": [],
   "source": [
    "# count most recent by Exercise\n",
    "t1 = df[df.file.notnull()]\n",
    "t2 = t1.drop_duplicates(['user'], keep='last')\n",
    "t2.sort_values(\"Exercise\")\n",
    "t2.groupby(\"Exercise\").count()['user']"
   ]
  },
  {
   "cell_type": "code",
   "execution_count": null,
   "metadata": {},
   "outputs": [],
   "source": [
    "# how many total times for each Exercise\n",
    "t1 = df[df.Exercise.notnull()]\n",
    "t1.groupby([\"Exercise\"]).count()"
   ]
  },
  {
   "cell_type": "code",
   "execution_count": null,
   "metadata": {},
   "outputs": [],
   "source": []
  }
 ],
 "metadata": {
  "kernelspec": {
   "display_name": "Python 3 (ipykernel)",
   "language": "python",
   "name": "python3"
  },
  "language_info": {
   "codemirror_mode": {
    "name": "ipython",
    "version": 3
   },
   "file_extension": ".py",
   "mimetype": "text/x-python",
   "name": "python",
   "nbconvert_exporter": "python",
   "pygments_lexer": "ipython3",
   "version": "3.9.12"
  }
 },
 "nbformat": 4,
 "nbformat_minor": 2
}
