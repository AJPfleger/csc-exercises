{
 "cells": [
  {
   "cell_type": "code",
   "execution_count": 1,
   "metadata": {},
   "outputs": [],
   "source": [
    "# usual set of imports and definitions\n",
    "from datascience import *\n",
    "import numpy as np\n",
    "import pandas as pd\n",
    "\n",
    "%matplotlib inline\n",
    "import matplotlib.pyplot as plots\n",
    "plots.style.use('fivethirtyeight')\n",
    "\n",
    "# Configure for presentation\n",
    "np.set_printoptions(threshold=50, linewidth=50)\n",
    "import matplotlib as mpl\n",
    "mpl.rc('font', size=16)"
   ]
  },
  {
   "cell_type": "markdown",
   "metadata": {},
   "source": [
    "## Drinks"
   ]
  },
  {
   "cell_type": "code",
   "execution_count": 2,
   "metadata": {},
   "outputs": [
    {
     "data": {
      "text/html": [
       "<table border=\"1\" class=\"dataframe\">\n",
       "    <thead>\n",
       "        <tr>\n",
       "            <th>Drink</th> <th>Cafe</th> <th>Price</th>\n",
       "        </tr>\n",
       "    </thead>\n",
       "    <tbody>\n",
       "        <tr>\n",
       "            <td>Milk Tea</td> <td>Tea One</td> <td>4    </td>\n",
       "        </tr>\n",
       "        <tr>\n",
       "            <td>Espresso</td> <td>Nefeli </td> <td>2    </td>\n",
       "        </tr>\n",
       "        <tr>\n",
       "            <td>Latte   </td> <td>Nefeli </td> <td>3    </td>\n",
       "        </tr>\n",
       "        <tr>\n",
       "            <td>Espresso</td> <td>Abe's  </td> <td>2    </td>\n",
       "        </tr>\n",
       "    </tbody>\n",
       "</table>"
      ],
      "text/plain": [
       "Drink    | Cafe    | Price\n",
       "Milk Tea | Tea One | 4\n",
       "Espresso | Nefeli  | 2\n",
       "Latte    | Nefeli  | 3\n",
       "Espresso | Abe's   | 2"
      ]
     },
     "execution_count": 2,
     "metadata": {},
     "output_type": "execute_result"
    }
   ],
   "source": [
    "# create a table of drinks available at several places with there prices\n",
    "drinks = Table(['Drink', 'Cafe', 'Price']).with_rows([  # a table of menus for cafes\n",
    "    ['Milk Tea', 'Tea One', 4],\n",
    "    ['Espresso', 'Nefeli',  2],\n",
    "    ['Latte',    'Nefeli',  3],\n",
    "    ['Espresso', \"Abe's\",   2]\n",
    "])\n",
    "drinks"
   ]
  },
  {
   "cell_type": "code",
   "execution_count": 3,
   "metadata": {},
   "outputs": [
    {
     "data": {
      "text/html": [
       "<table border=\"1\" class=\"dataframe\">\n",
       "    <thead>\n",
       "        <tr>\n",
       "            <th>Coupon % off</th> <th>Location</th>\n",
       "        </tr>\n",
       "    </thead>\n",
       "    <tbody>\n",
       "        <tr>\n",
       "            <td>25          </td> <td>Tea One </td>\n",
       "        </tr>\n",
       "        <tr>\n",
       "            <td>50          </td> <td>Nefeli  </td>\n",
       "        </tr>\n",
       "        <tr>\n",
       "            <td>5           </td> <td>Tea One </td>\n",
       "        </tr>\n",
       "    </tbody>\n",
       "</table>"
      ],
      "text/plain": [
       "Coupon % off | Location\n",
       "25           | Tea One\n",
       "50           | Nefeli\n",
       "5            | Tea One"
      ]
     },
     "execution_count": 3,
     "metadata": {},
     "output_type": "execute_result"
    }
   ],
   "source": [
    "# create a table of available discounts\n",
    "discounts = Table().with_columns(                 # A table of discounts by cafe\n",
    "    'Coupon % off', make_array(25, 50, 5),\n",
    "    'Location', make_array('Tea One', 'Nefeli', 'Tea One')\n",
    ")\n",
    "discounts"
   ]
  },
  {
   "cell_type": "code",
   "execution_count": 4,
   "metadata": {},
   "outputs": [
    {
     "data": {
      "text/html": [
       "<table border=\"1\" class=\"dataframe\">\n",
       "    <thead>\n",
       "        <tr>\n",
       "            <th>Cafe</th> <th>Drink</th> <th>Price</th> <th>Coupon % off</th>\n",
       "        </tr>\n",
       "    </thead>\n",
       "    <tbody>\n",
       "        <tr>\n",
       "            <td>Nefeli </td> <td>Espresso</td> <td>2    </td> <td>50          </td>\n",
       "        </tr>\n",
       "        <tr>\n",
       "            <td>Nefeli </td> <td>Latte   </td> <td>3    </td> <td>50          </td>\n",
       "        </tr>\n",
       "        <tr>\n",
       "            <td>Tea One</td> <td>Milk Tea</td> <td>4    </td> <td>25          </td>\n",
       "        </tr>\n",
       "        <tr>\n",
       "            <td>Tea One</td> <td>Milk Tea</td> <td>4    </td> <td>5           </td>\n",
       "        </tr>\n",
       "    </tbody>\n",
       "</table>"
      ],
      "text/plain": [
       "Cafe    | Drink    | Price | Coupon % off\n",
       "Nefeli  | Espresso | 2     | 50\n",
       "Nefeli  | Latte    | 3     | 50\n",
       "Tea One | Milk Tea | 4     | 25\n",
       "Tea One | Milk Tea | 4     | 5"
      ]
     },
     "execution_count": 4,
     "metadata": {},
     "output_type": "execute_result"
    }
   ],
   "source": [
    "# combine the tables by matching cafe names\n",
    "t = drinks.join('Cafe', discounts, 'Location')\n",
    "t            # note you don't have a discount for Abe's"
   ]
  },
  {
   "cell_type": "code",
   "execution_count": 5,
   "metadata": {},
   "outputs": [
    {
     "data": {
      "text/html": [
       "<table border=\"1\" class=\"dataframe\">\n",
       "    <thead>\n",
       "        <tr>\n",
       "            <th>Cafe</th> <th>Drink</th> <th>Price</th> <th>Coupon % off</th> <th>Discounted</th>\n",
       "        </tr>\n",
       "    </thead>\n",
       "    <tbody>\n",
       "        <tr>\n",
       "            <td>Nefeli </td> <td>Espresso</td> <td>2    </td> <td>50          </td> <td>1         </td>\n",
       "        </tr>\n",
       "        <tr>\n",
       "            <td>Nefeli </td> <td>Latte   </td> <td>3    </td> <td>50          </td> <td>1.5       </td>\n",
       "        </tr>\n",
       "        <tr>\n",
       "            <td>Tea One</td> <td>Milk Tea</td> <td>4    </td> <td>25          </td> <td>3         </td>\n",
       "        </tr>\n",
       "        <tr>\n",
       "            <td>Tea One</td> <td>Milk Tea</td> <td>4    </td> <td>5           </td> <td>3.8       </td>\n",
       "        </tr>\n",
       "    </tbody>\n",
       "</table>"
      ],
      "text/plain": [
       "Cafe    | Drink    | Price | Coupon % off | Discounted\n",
       "Nefeli  | Espresso | 2     | 50           | 1\n",
       "Nefeli  | Latte    | 3     | 50           | 1.5\n",
       "Tea One | Milk Tea | 4     | 25           | 3\n",
       "Tea One | Milk Tea | 4     | 5            | 3.8"
      ]
     },
     "execution_count": 5,
     "metadata": {},
     "output_type": "execute_result"
    }
   ],
   "source": [
    "# Compute a column of discounted price\n",
    "t.with_column('Discounted', t.column(2) * (1 - t.column(3)/ 100))"
   ]
  },
  {
   "cell_type": "code",
   "execution_count": 6,
   "metadata": {},
   "outputs": [
    {
     "data": {
      "text/html": [
       "<table border=\"1\" class=\"dataframe\">\n",
       "    <thead>\n",
       "        <tr>\n",
       "            <th>Cafe</th> <th>Drink</th> <th>Price</th> <th>Drink_2</th> <th>Price_2</th>\n",
       "        </tr>\n",
       "    </thead>\n",
       "    <tbody>\n",
       "        <tr>\n",
       "            <td>Abe's  </td> <td>Espresso</td> <td>2    </td> <td>Espresso</td> <td>2      </td>\n",
       "        </tr>\n",
       "        <tr>\n",
       "            <td>Nefeli </td> <td>Espresso</td> <td>2    </td> <td>Espresso</td> <td>2      </td>\n",
       "        </tr>\n",
       "        <tr>\n",
       "            <td>Nefeli </td> <td>Espresso</td> <td>2    </td> <td>Latte   </td> <td>3      </td>\n",
       "        </tr>\n",
       "        <tr>\n",
       "            <td>Nefeli </td> <td>Latte   </td> <td>3    </td> <td>Espresso</td> <td>2      </td>\n",
       "        </tr>\n",
       "        <tr>\n",
       "            <td>Nefeli </td> <td>Latte   </td> <td>3    </td> <td>Latte   </td> <td>3      </td>\n",
       "        </tr>\n",
       "        <tr>\n",
       "            <td>Tea One</td> <td>Milk Tea</td> <td>4    </td> <td>Milk Tea</td> <td>4      </td>\n",
       "        </tr>\n",
       "    </tbody>\n",
       "</table>"
      ],
      "text/plain": [
       "Cafe    | Drink    | Price | Drink_2  | Price_2\n",
       "Abe's   | Espresso | 2     | Espresso | 2\n",
       "Nefeli  | Espresso | 2     | Espresso | 2\n",
       "Nefeli  | Espresso | 2     | Latte    | 3\n",
       "Nefeli  | Latte    | 3     | Espresso | 2\n",
       "Nefeli  | Latte    | 3     | Latte    | 3\n",
       "Tea One | Milk Tea | 4     | Milk Tea | 4"
      ]
     },
     "execution_count": 6,
     "metadata": {},
     "output_type": "execute_result"
    }
   ],
   "source": [
    "# What do all possible two-drink orders cost?\n",
    "# Join with itself, matching on Cafe (you only order in one place)\n",
    "two = drinks.join('Cafe', drinks)\n",
    "two"
   ]
  },
  {
   "cell_type": "code",
   "execution_count": 7,
   "metadata": {},
   "outputs": [
    {
     "data": {
      "text/html": [
       "<table border=\"1\" class=\"dataframe\">\n",
       "    <thead>\n",
       "        <tr>\n",
       "            <th>Cafe</th> <th>Drink</th> <th>Price</th> <th>Drink_2</th> <th>Price_2</th> <th>Total</th>\n",
       "        </tr>\n",
       "    </thead>\n",
       "    <tbody>\n",
       "        <tr>\n",
       "            <td>Abe's  </td> <td>Espresso</td> <td>2    </td> <td>Espresso</td> <td>2      </td> <td>4    </td>\n",
       "        </tr>\n",
       "        <tr>\n",
       "            <td>Nefeli </td> <td>Espresso</td> <td>2    </td> <td>Espresso</td> <td>2      </td> <td>4    </td>\n",
       "        </tr>\n",
       "        <tr>\n",
       "            <td>Nefeli </td> <td>Espresso</td> <td>2    </td> <td>Latte   </td> <td>3      </td> <td>5    </td>\n",
       "        </tr>\n",
       "        <tr>\n",
       "            <td>Nefeli </td> <td>Latte   </td> <td>3    </td> <td>Espresso</td> <td>2      </td> <td>5    </td>\n",
       "        </tr>\n",
       "        <tr>\n",
       "            <td>Nefeli </td> <td>Latte   </td> <td>3    </td> <td>Latte   </td> <td>3      </td> <td>6    </td>\n",
       "        </tr>\n",
       "        <tr>\n",
       "            <td>Tea One</td> <td>Milk Tea</td> <td>4    </td> <td>Milk Tea</td> <td>4      </td> <td>8    </td>\n",
       "        </tr>\n",
       "    </tbody>\n",
       "</table>"
      ],
      "text/plain": [
       "Cafe    | Drink    | Price | Drink_2  | Price_2 | Total\n",
       "Abe's   | Espresso | 2     | Espresso | 2       | 4\n",
       "Nefeli  | Espresso | 2     | Espresso | 2       | 4\n",
       "Nefeli  | Espresso | 2     | Latte    | 3       | 5\n",
       "Nefeli  | Latte    | 3     | Espresso | 2       | 5\n",
       "Nefeli  | Latte    | 3     | Latte    | 3       | 6\n",
       "Tea One | Milk Tea | 4     | Milk Tea | 4       | 8"
      ]
     },
     "execution_count": 7,
     "metadata": {},
     "output_type": "execute_result"
    }
   ],
   "source": [
    "# Add a total price\n",
    "two.with_column('Total', two.column('Price') + two.column('Price_2'))"
   ]
  },
  {
   "cell_type": "code",
   "execution_count": 8,
   "metadata": {},
   "outputs": [],
   "source": [
    "# Can you find price of all double orders using a discount, \n",
    "# assuming discount can be applied to both drinks? Only to one?"
   ]
  }
 ],
 "metadata": {
  "kernelspec": {
   "display_name": "Python 3 (ipykernel)",
   "language": "python",
   "name": "python3"
  },
  "language_info": {
   "codemirror_mode": {
    "name": "ipython",
    "version": 3
   },
   "file_extension": ".py",
   "mimetype": "text/x-python",
   "name": "python",
   "nbconvert_exporter": "python",
   "pygments_lexer": "ipython3",
   "version": "3.9.12"
  }
 },
 "nbformat": 4,
 "nbformat_minor": 2
}
